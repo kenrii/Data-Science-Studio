{
  "nbformat": 4,
  "nbformat_minor": 0,
  "metadata": {
    "colab": {
      "name": "digreg_model.ipynb",
      "provenance": [],
      "collapsed_sections": []
    },
    "kernelspec": {
      "name": "python3",
      "display_name": "Python 3"
    },
    "accelerator": "GPU"
  },
  "cells": [
    {
      "cell_type": "code",
      "metadata": {
        "id": "Ar-3fDyCbIMa",
        "colab_type": "code",
        "outputId": "5d018be2-8d68-4be1-822b-bec0d99460a7",
        "colab": {
          "base_uri": "https://localhost:8080/",
          "height": 81
        }
      },
      "source": [
        "import pandas as pd\n",
        "import numpy as np\n",
        "import seaborn as sns\n",
        "import tensorflow as tf\n",
        "from sklearn.model_selection import train_test_split\n",
        "from sklearn.metrics import confusion_matrix, accuracy_score\n",
        "from keras.utils import to_categorical\n",
        "from keras.preprocessing.image import ImageDataGenerator\n",
        "from keras.models import Sequential\n",
        "from keras.layers import Dense, Dropout, Flatten, Conv2D"
      ],
      "execution_count": 1,
      "outputs": [
        {
          "output_type": "display_data",
          "data": {
            "text/html": [
              "<p style=\"color: red;\">\n",
              "The default version of TensorFlow in Colab will soon switch to TensorFlow 2.x.<br>\n",
              "We recommend you <a href=\"https://www.tensorflow.org/guide/migrate\" target=\"_blank\">upgrade</a> now \n",
              "or ensure your notebook will continue to use TensorFlow 1.x via the <code>%tensorflow_version 1.x</code> magic:\n",
              "<a href=\"https://colab.research.google.com/notebooks/tensorflow_version.ipynb\" target=\"_blank\">more info</a>.</p>\n"
            ],
            "text/plain": [
              "<IPython.core.display.HTML object>"
            ]
          },
          "metadata": {
            "tags": []
          }
        },
        {
          "output_type": "stream",
          "text": [
            "Using TensorFlow backend.\n"
          ],
          "name": "stderr"
        }
      ]
    },
    {
      "cell_type": "code",
      "metadata": {
        "id": "d-tKLerxOaWZ",
        "colab_type": "code",
        "colab": {}
      },
      "source": [
        "#Kaggle Competition \n",
        "train = pd.read_csv('datasets/train.csv')\n",
        "test = pd.read_csv('datasets/test.csv')\n",
        "\n",
        "y_train = train['label']\n",
        "x_train = train.drop(['label'], axis = 1)"
      ],
      "execution_count": 0,
      "outputs": []
    },
    {
      "cell_type": "code",
      "metadata": {
        "id": "Mm1qqTD4Jdbb",
        "colab_type": "code",
        "outputId": "6342f8c5-590b-4029-c5b5-444a6431e7dd",
        "colab": {
          "base_uri": "https://localhost:8080/",
          "height": 313
        }
      },
      "source": [
        "#label distribution\n",
        "sns.countplot(y_train)\n",
        "labels, counts = np.unique(y_train, return_counts=True)\n",
        "np.array([labels, counts])"
      ],
      "execution_count": 3,
      "outputs": [
        {
          "output_type": "execute_result",
          "data": {
            "text/plain": [
              "array([[   0,    1,    2,    3,    4,    5,    6,    7,    8,    9],\n",
              "       [4132, 4684, 4177, 4351, 4072, 3795, 4137, 4401, 4063, 4188]])"
            ]
          },
          "metadata": {
            "tags": []
          },
          "execution_count": 3
        },
        {
          "output_type": "display_data",
          "data": {
            "image/png": "[encoded data removed]",
            "text/plain": [
              "<Figure size 432x288 with 1 Axes>"
            ]
          },
          "metadata": {
            "tags": []
          }
        }
      ]
    },
    {
      "cell_type": "code",
      "metadata": {
        "id": "k6oVmgccnv4n",
        "colab_type": "code",
        "colab": {}
      },
      "source": [
        "#normalize value for better performance\n",
        "x_train = x_train / 255.0\n",
        "test = test / 255.0"
      ],
      "execution_count": 0,
      "outputs": []
    },
    {
      "cell_type": "code",
      "metadata": {
        "id": "P7ApzMtOPkFR",
        "colab_type": "code",
        "colab": {}
      },
      "source": [
        "#reshaping to right format for Keras \n",
        "x_train = x_train.values.reshape(-1, 28, 28,1)\n",
        "test = test.values.reshape(-1,28,28,1)\n",
        "\n",
        "y_train = to_categorical(y_train, num_classes = 10)"
      ],
      "execution_count": 0,
      "outputs": []
    },
    {
      "cell_type": "code",
      "metadata": {
        "id": "l7OelJbVRt91",
        "colab_type": "code",
        "colab": {}
      },
      "source": [
        "x_train, x_val, y_train, y_val = train_test_split(x_train, y_train, test_size = 0.1, random_state = 42)\n"
      ],
      "execution_count": 0,
      "outputs": []
    },
    {
      "cell_type": "code",
      "metadata": {
        "id": "IcXpWg1H1Z8Q",
        "colab_type": "code",
        "colab": {}
      },
      "source": [
        "#data augmentation to prevent overfitting and gathering more data\n",
        "datagen = ImageDataGenerator(zoom_range = 0.1, width_shift_range = 0.1,\n",
        "                             rotation_range = 0.1, height_shift_range = 0.1)\n",
        "datagen.fit(x_train)\n"
      ],
      "execution_count": 0,
      "outputs": []
    },
    {
      "cell_type": "code",
      "metadata": {
        "id": "bkDelr7FHCpY",
        "colab_type": "code",
        "outputId": "7d438159-3b6e-4414-b821-e2d10a759849",
        "colab": {
          "base_uri": "https://localhost:8080/",
          "height": 277
        }
      },
      "source": [
        "#our basic cnn model\n",
        "\n",
        "model = Sequential()\n",
        "model.add(Conv2D(64, kernel_size=3, activation='relu', input_shape=(28,28,1)))\n",
        "model.add(Dropout(0.20))\n",
        "model.add(Conv2D(32, kernel_size=3, activation='relu'))\n",
        "model.add(Flatten())\n",
        "model.add(Dense(10, activation='softmax'))\n",
        "model.compile(optimizer='adam', loss='categorical_crossentropy', metrics=['accuracy'])"
      ],
      "execution_count": 8,
      "outputs": [
        {
          "output_type": "stream",
          "text": [
            "WARNING:tensorflow:From /usr/local/lib/python3.6/dist-packages/keras/backend/tensorflow_backend.py:66: The name tf.get_default_graph is deprecated. Please use tf.compat.v1.get_default_graph instead.\n",
            "\n",
            "WARNING:tensorflow:From /usr/local/lib/python3.6/dist-packages/keras/backend/tensorflow_backend.py:541: The name tf.placeholder is deprecated. Please use tf.compat.v1.placeholder instead.\n",
            "\n",
            "WARNING:tensorflow:From /usr/local/lib/python3.6/dist-packages/keras/backend/tensorflow_backend.py:4432: The name tf.random_uniform is deprecated. Please use tf.random.uniform instead.\n",
            "\n",
            "WARNING:tensorflow:From /usr/local/lib/python3.6/dist-packages/keras/backend/tensorflow_backend.py:148: The name tf.placeholder_with_default is deprecated. Please use tf.compat.v1.placeholder_with_default instead.\n",
            "\n",
            "WARNING:tensorflow:From /usr/local/lib/python3.6/dist-packages/keras/backend/tensorflow_backend.py:3733: calling dropout (from tensorflow.python.ops.nn_ops) with keep_prob is deprecated and will be removed in a future version.\n",
            "Instructions for updating:\n",
            "Please use `rate` instead of `keep_prob`. Rate should be set to `rate = 1 - keep_prob`.\n",
            "WARNING:tensorflow:From /usr/local/lib/python3.6/dist-packages/keras/optimizers.py:793: The name tf.train.Optimizer is deprecated. Please use tf.compat.v1.train.Optimizer instead.\n",
            "\n",
            "WARNING:tensorflow:From /usr/local/lib/python3.6/dist-packages/keras/backend/tensorflow_backend.py:3576: The name tf.log is deprecated. Please use tf.math.log instead.\n",
            "\n"
          ],
          "name": "stdout"
        }
      ]
    },
    {
      "cell_type": "code",
      "metadata": {
        "id": "4OjKylJWGg_2",
        "colab_type": "code",
        "outputId": "6bbc4b69-e1d5-45fb-9d01-a0f97cc37988",
        "colab": {
          "base_uri": "https://localhost:8080/",
          "height": 381
        }
      },
      "source": [
        "#fitting the model\n",
        "\n",
        "history = model.fit_generator(datagen.flow(x_train, y_train, batch_size = 32),\n",
        "                              epochs = 1)\n"
      ],
      "execution_count": 9,
      "outputs": [
        {
          "output_type": "stream",
          "text": [
            "WARNING:tensorflow:From /usr/local/lib/python3.6/dist-packages/tensorflow_core/python/ops/math_grad.py:1424: where (from tensorflow.python.ops.array_ops) is deprecated and will be removed in a future version.\n",
            "Instructions for updating:\n",
            "Use tf.where in 2.0, which has the same broadcast rule as np.where\n",
            "WARNING:tensorflow:From /usr/local/lib/python3.6/dist-packages/keras/backend/tensorflow_backend.py:1033: The name tf.assign_add is deprecated. Please use tf.compat.v1.assign_add instead.\n",
            "\n",
            "WARNING:tensorflow:From /usr/local/lib/python3.6/dist-packages/keras/backend/tensorflow_backend.py:1020: The name tf.assign is deprecated. Please use tf.compat.v1.assign instead.\n",
            "\n",
            "WARNING:tensorflow:From /usr/local/lib/python3.6/dist-packages/keras/backend/tensorflow_backend.py:3005: The name tf.Session is deprecated. Please use tf.compat.v1.Session instead.\n",
            "\n",
            "Epoch 1/1\n",
            "WARNING:tensorflow:From /usr/local/lib/python3.6/dist-packages/keras/backend/tensorflow_backend.py:190: The name tf.get_default_session is deprecated. Please use tf.compat.v1.get_default_session instead.\n",
            "\n",
            "WARNING:tensorflow:From /usr/local/lib/python3.6/dist-packages/keras/backend/tensorflow_backend.py:197: The name tf.ConfigProto is deprecated. Please use tf.compat.v1.ConfigProto instead.\n",
            "\n",
            "WARNING:tensorflow:From /usr/local/lib/python3.6/dist-packages/keras/backend/tensorflow_backend.py:207: The name tf.global_variables is deprecated. Please use tf.compat.v1.global_variables instead.\n",
            "\n",
            "WARNING:tensorflow:From /usr/local/lib/python3.6/dist-packages/keras/backend/tensorflow_backend.py:216: The name tf.is_variable_initialized is deprecated. Please use tf.compat.v1.is_variable_initialized instead.\n",
            "\n",
            "WARNING:tensorflow:From /usr/local/lib/python3.6/dist-packages/keras/backend/tensorflow_backend.py:223: The name tf.variables_initializer is deprecated. Please use tf.compat.v1.variables_initializer instead.\n",
            "\n",
            "1182/1182 [==============================] - 17s 14ms/step - loss: 0.3472 - acc: 0.8907\n"
          ],
          "name": "stdout"
        }
      ]
    },
    {
      "cell_type": "code",
      "metadata": {
        "id": "AXhDV5pCWDNk",
        "colab_type": "code",
        "outputId": "7e19a72a-8ef1-46ba-9270-bcad0f0bfc46",
        "colab": {
          "base_uri": "https://localhost:8080/",
          "height": 34
        }
      },
      "source": [
        "#model validation\n",
        "y_pred = model.predict(x_val)\n",
        "y_pred_classes = np.argmax(y_pred, axis = 1)\n",
        "y_true_classes = np.argmax(y_val, axis = 1)\n",
        "\n",
        "accuracy_score(y_pred_classes, y_true_classes)"
      ],
      "execution_count": 10,
      "outputs": [
        {
          "output_type": "execute_result",
          "data": {
            "text/plain": [
              "0.975"
            ]
          },
          "metadata": {
            "tags": []
          },
          "execution_count": 10
        }
      ]
    },
    {
      "cell_type": "code",
      "metadata": {
        "id": "ZxtP12aycGbP",
        "colab_type": "code",
        "outputId": "523d3f0c-d297-4d3d-fe4b-0a43097984fd",
        "colab": {
          "base_uri": "https://localhost:8080/",
          "height": 190
        }
      },
      "source": [
        "confusion_matrix(y_pred_classes, y_true_classes)"
      ],
      "execution_count": 11,
      "outputs": [
        {
          "output_type": "execute_result",
          "data": {
            "text/plain": [
              "array([[404,   0,   0,   1,   0,   0,   2,   0,   1,   2],\n",
              "       [  0, 465,   3,   0,   0,   0,   0,   0,   0,   0],\n",
              "       [  0,   1, 389,   0,   0,   0,   0,   2,   1,   0],\n",
              "       [  0,   3,   5, 496,   0,   0,   0,   3,   0,   3],\n",
              "       [  1,   0,   2,   0, 385,   0,   1,   1,   1,   1],\n",
              "       [  1,   0,   0,   6,   0, 335,   2,   0,   2,   4],\n",
              "       [  1,   2,   0,   0,   3,   1, 397,   0,   1,   0],\n",
              "       [  0,   0,   9,   1,   0,   0,   0, 429,   1,   2],\n",
              "       [  1,   0,  12,   2,   2,   2,   0,   1, 394,   3],\n",
              "       [  0,   0,   0,   0,   7,   1,   0,   2,   2, 401]])"
            ]
          },
          "metadata": {
            "tags": []
          },
          "execution_count": 11
        }
      ]
    },
    {
      "cell_type": "code",
      "metadata": {
        "id": "GuansHGASzDC",
        "colab_type": "code",
        "colab": {}
      },
      "source": [
        "#predicting from test data\n",
        "test_results = model.predict(test)\n",
        "test_results_classes = np.argmax(test_results, axis = 1)"
      ],
      "execution_count": 0,
      "outputs": []
    },
    {
      "cell_type": "code",
      "metadata": {
        "id": "wSoUNfrMNTIX",
        "colab_type": "code",
        "colab": {}
      },
      "source": [
        "#creating CSV for submission\n",
        "submission_kaggle = pd.DataFrame({'ImageId': range(1, 28001), 'Label': test_results_classes})\n",
        "submission_kaggle.to_csv('kaggle_competition.csv', index=False)"
      ],
      "execution_count": 0,
      "outputs": []
    }
  ]
}